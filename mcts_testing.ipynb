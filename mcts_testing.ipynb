{
 "cells": [
  {
   "cell_type": "code",
   "execution_count": null,
   "metadata": {},
   "outputs": [],
   "source": [
    "from game import UltimateTicTacToe\n",
    "from player import Player\n",
    "from MCTS_player import MCTSPlayer\n",
    "\n",
    "from tqdm import tqdm\n",
    "from collections import Counter"
   ]
  },
  {
   "cell_type": "code",
   "execution_count": null,
   "metadata": {},
   "outputs": [],
   "source": [
    "p1 = Player(1)\n",
    "# p2 = Player(2)\n",
    "p2 = MCTSPlayer(2, exploration_weight=0.01)\n",
    "p2.train(100000)\n",
    "# print(p2.explored[\"0\"*82])\n",
    "game = UltimateTicTacToe(p1, p2)\n",
    "results = []\n",
    "for _ in tqdm(range(100)):\n",
    "    results.append(game.play_game())\n",
    "\n",
    "print(Counter(results))"
   ]
  }
 ],
 "metadata": {
  "language_info": {
   "name": "python"
  },
  "orig_nbformat": 4
 },
 "nbformat": 4,
 "nbformat_minor": 2
}
