{
 "cells": [
  {
   "cell_type": "code",
   "execution_count": 1,
   "metadata": {},
   "outputs": [],
   "source": [
    "from game import UltimateTicTacToe\n",
    "from player import Player\n",
    "from MCTS_player import MCTSPlayer\n",
    "\n",
    "from tqdm import tqdm\n",
    "from collections import Counter"
   ]
  },
  {
   "cell_type": "code",
   "execution_count": 5,
   "metadata": {},
   "outputs": [
    {
     "name": "stderr",
     "output_type": "stream",
     "text": [
      "100%|██████████| 10/10 [05:12<00:00, 31.21s/it]"
     ]
    },
    {
     "name": "stdout",
     "output_type": "stream",
     "text": [
      "Counter({-1: 4, 2: 4, 1: 2})\n"
     ]
    },
    {
     "name": "stderr",
     "output_type": "stream",
     "text": [
      "\n"
     ]
    }
   ],
   "source": [
    "p1 = Player(1)\n",
    "p2 = MCTSPlayer(2, exploration_weight=2**0.5, calculation_time=1, n_rollouts=20)\n",
    "\n",
    "game = UltimateTicTacToe(p1, p2)\n",
    "\n",
    "results = []\n",
    "for _ in tqdm(range(10)):\n",
    "    results.append(game.play_game())\n",
    "\n",
    "print(Counter(results))"
   ]
  },
  {
   "cell_type": "code",
   "execution_count": null,
   "metadata": {},
   "outputs": [
    {
     "name": "stderr",
     "output_type": "stream",
     "text": [
      "100%|██████████| 10/10 [00:29<00:00,  2.91s/it]"
     ]
    },
    {
     "name": "stdout",
     "output_type": "stream",
     "text": [
      "Counter({1: 6, -1: 2, 2: 2})\n"
     ]
    },
    {
     "name": "stderr",
     "output_type": "stream",
     "text": [
      "\n"
     ]
    }
   ],
   "source": [
    "p2 = Player(2)\n",
    "p1 = MCTSPlayer(1, exploration_weight=2**0.5, calculation_time=1, n_rollouts=20)\n",
    "\n",
    "game = UltimateTicTacToe(p1, p2)\n",
    "\n",
    "results = []\n",
    "for _ in tqdm(range(10)):\n",
    "    results.append(game.play_game())\n",
    "\n",
    "print(Counter(results))"
   ]
  },
  {
   "cell_type": "code",
   "execution_count": 8,
   "metadata": {},
   "outputs": [
    {
     "name": "stderr",
     "output_type": "stream",
     "text": [
      "100%|██████████| 10/10 [01:11<00:00,  7.19s/it]"
     ]
    },
    {
     "name": "stdout",
     "output_type": "stream",
     "text": [
      "Counter({1: 10})\n"
     ]
    },
    {
     "name": "stderr",
     "output_type": "stream",
     "text": [
      "\n"
     ]
    }
   ],
   "source": [
    "p1 = MCTSPlayer(1, exploration_weight=1, calculation_time=0.2, n_rollouts=10)\n",
    "p2 = MCTSPlayer(2, exploration_weight=2**0.5, calculation_time=0.2, n_rollouts=50)\n",
    "\n",
    "game = UltimateTicTacToe(p1, p2)\n",
    "\n",
    "results = []\n",
    "for _ in tqdm(range(10)):\n",
    "    results.append(game.play_game())\n",
    "\n",
    "print(Counter(results))"
   ]
  },
  {
   "cell_type": "code",
   "execution_count": 9,
   "metadata": {},
   "outputs": [
    {
     "name": "stderr",
     "output_type": "stream",
     "text": [
      "100%|██████████| 10/10 [00:59<00:00,  5.94s/it]"
     ]
    },
    {
     "name": "stdout",
     "output_type": "stream",
     "text": [
      "Counter({1: 8, -1: 2})\n"
     ]
    },
    {
     "name": "stderr",
     "output_type": "stream",
     "text": [
      "\n"
     ]
    }
   ],
   "source": [
    "p1 = MCTSPlayer(1, exploration_weight=1, calculation_time=0.2, n_rollouts=10)\n",
    "p2 = Player(2)\n",
    "\n",
    "game = UltimateTicTacToe(p1, p2)\n",
    "\n",
    "results = []\n",
    "for _ in tqdm(range(10)):\n",
    "    results.append(game.play_game())\n",
    "\n",
    "print(Counter(results))"
   ]
  }
 ],
 "metadata": {
  "kernelspec": {
   "display_name": "ds4420",
   "language": "python",
   "name": "python3"
  },
  "language_info": {
   "codemirror_mode": {
    "name": "ipython",
    "version": 3
   },
   "file_extension": ".py",
   "mimetype": "text/x-python",
   "name": "python",
   "nbconvert_exporter": "python",
   "pygments_lexer": "ipython3",
   "version": "3.12.8"
  },
  "orig_nbformat": 4
 },
 "nbformat": 4,
 "nbformat_minor": 2
}
