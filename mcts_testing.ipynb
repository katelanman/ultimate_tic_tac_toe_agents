{
 "cells": [
  {
   "cell_type": "code",
   "execution_count": 1,
   "metadata": {},
   "outputs": [],
   "source": [
    "from game import UltimateTicTacToe\n",
    "from player import Player\n",
    "from MCTS_player import MCTSPlayer\n",
    "\n",
    "from tqdm import tqdm\n",
    "from collections import Counter"
   ]
  },
  {
   "cell_type": "code",
   "execution_count": null,
   "metadata": {},
   "outputs": [],
   "source": [
    "p1 = Player(1)\n",
    "# p2 = Player(2)\n",
    "p2 = MCTSPlayer(2, exploration_weight=0.01)\n",
    "p2.train(100000)\n",
    "# print(p2.explored[\"0\"*82])\n",
    "game = UltimateTicTacToe(p1, p2)\n",
    "results = []\n",
    "for _ in tqdm(range(100)):\n",
    "    results.append(game.play_game())\n",
    "\n",
    "print(Counter(results))"
   ]
  },
  {
   "cell_type": "code",
   "execution_count": 3,
   "metadata": {},
   "outputs": [
    {
     "name": "stderr",
     "output_type": "stream",
     "text": [
      "100%|██████████| 10000/10000 [00:15<00:00, 664.88it/s]"
     ]
    },
    {
     "name": "stdout",
     "output_type": "stream",
     "text": [
      "Counter({2: 3930, 1: 3877, -1: 2193})\n"
     ]
    },
    {
     "name": "stderr",
     "output_type": "stream",
     "text": [
      "\n"
     ]
    }
   ],
   "source": [
    "p1 = Player(1)\n",
    "p2 = Player(2)\n",
    "# p2 = MCTSPlayer(2, exploration_weight=0.01)\n",
    "# p2.train(100000)\n",
    "# print(p2.explored[\"0\"*82])\n",
    "game = UltimateTicTacToe(p1, p2)\n",
    "results = []\n",
    "for _ in tqdm(range(10000)):\n",
    "    results.append(game.play_game())\n",
    "\n",
    "print(Counter(results))"
   ]
  }
 ],
 "metadata": {
  "kernelspec": {
   "display_name": "ds4420",
   "language": "python",
   "name": "python3"
  },
  "language_info": {
   "codemirror_mode": {
    "name": "ipython",
    "version": 3
   },
   "file_extension": ".py",
   "mimetype": "text/x-python",
   "name": "python",
   "nbconvert_exporter": "python",
   "pygments_lexer": "ipython3",
   "version": "3.12.8"
  },
  "orig_nbformat": 4
 },
 "nbformat": 4,
 "nbformat_minor": 2
}
