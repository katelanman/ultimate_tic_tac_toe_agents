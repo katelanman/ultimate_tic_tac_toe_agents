{
 "cells": [
  {
   "cell_type": "code",
   "execution_count": 4,
   "metadata": {},
   "outputs": [],
   "source": [
    "from game import UltimateTicTacToe\n",
    "from player import Player\n",
    "from MCTS_player import MCTSPlayer\n",
    "from board import Board\n",
    "from AlphaBeta_player import AlphaBetaMiniMaxPlayer\n",
    "\n",
    "from tqdm import tqdm\n",
    "from collections import Counter, defaultdict\n",
    "import numpy as np\n",
    "\n",
    "import matplotlib.pyplot as plt"
   ]
  },
  {
   "cell_type": "code",
   "execution_count": 2,
   "metadata": {},
   "outputs": [
    {
     "name": "stderr",
     "output_type": "stream",
     "text": [
      "100%|██████████| 20/20 [00:18<00:00,  1.08it/s]\n"
     ]
    },
    {
     "name": "stdout",
     "output_type": "stream",
     "text": [
      "1 Counter({1: 11, 2: 9})\n"
     ]
    },
    {
     "name": "stderr",
     "output_type": "stream",
     "text": [
      "100%|██████████| 20/20 [00:18<00:00,  1.07it/s]\n"
     ]
    },
    {
     "name": "stdout",
     "output_type": "stream",
     "text": [
      "2 Counter({1: 10, 2: 10})\n"
     ]
    },
    {
     "name": "stderr",
     "output_type": "stream",
     "text": [
      "100%|██████████| 20/20 [00:18<00:00,  1.11it/s]\n"
     ]
    },
    {
     "name": "stdout",
     "output_type": "stream",
     "text": [
      "3 Counter({2: 12, 1: 8})\n"
     ]
    },
    {
     "name": "stderr",
     "output_type": "stream",
     "text": [
      "100%|██████████| 20/20 [00:18<00:00,  1.11it/s]\n"
     ]
    },
    {
     "name": "stdout",
     "output_type": "stream",
     "text": [
      "4 Counter({1: 11, 2: 9})\n"
     ]
    },
    {
     "name": "stderr",
     "output_type": "stream",
     "text": [
      "100%|██████████| 20/20 [00:17<00:00,  1.12it/s]\n"
     ]
    },
    {
     "name": "stdout",
     "output_type": "stream",
     "text": [
      "5 Counter({2: 12, 1: 8})\n"
     ]
    },
    {
     "name": "stderr",
     "output_type": "stream",
     "text": [
      "100%|██████████| 20/20 [00:18<00:00,  1.10it/s]\n"
     ]
    },
    {
     "name": "stdout",
     "output_type": "stream",
     "text": [
      "6 Counter({1: 11, 2: 9})\n"
     ]
    },
    {
     "name": "stderr",
     "output_type": "stream",
     "text": [
      "100%|██████████| 20/20 [00:17<00:00,  1.13it/s]\n"
     ]
    },
    {
     "name": "stdout",
     "output_type": "stream",
     "text": [
      "7 Counter({1: 12, 2: 8})\n"
     ]
    },
    {
     "name": "stderr",
     "output_type": "stream",
     "text": [
      "100%|██████████| 20/20 [00:18<00:00,  1.09it/s]\n"
     ]
    },
    {
     "name": "stdout",
     "output_type": "stream",
     "text": [
      "8 Counter({2: 10, 1: 10})\n"
     ]
    },
    {
     "name": "stderr",
     "output_type": "stream",
     "text": [
      "100%|██████████| 20/20 [00:17<00:00,  1.11it/s]\n"
     ]
    },
    {
     "name": "stdout",
     "output_type": "stream",
     "text": [
      "9 Counter({2: 12, 1: 8})\n"
     ]
    },
    {
     "name": "stderr",
     "output_type": "stream",
     "text": [
      "100%|██████████| 20/20 [00:17<00:00,  1.14it/s]\n"
     ]
    },
    {
     "name": "stdout",
     "output_type": "stream",
     "text": [
      "10 Counter({1: 11, 2: 9})\n"
     ]
    },
    {
     "name": "stderr",
     "output_type": "stream",
     "text": [
      "100%|██████████| 20/20 [00:18<00:00,  1.10it/s]\n"
     ]
    },
    {
     "name": "stdout",
     "output_type": "stream",
     "text": [
      "11 Counter({1: 10, 2: 10})\n"
     ]
    },
    {
     "name": "stderr",
     "output_type": "stream",
     "text": [
      "100%|██████████| 20/20 [00:18<00:00,  1.09it/s]\n"
     ]
    },
    {
     "name": "stdout",
     "output_type": "stream",
     "text": [
      "12 Counter({1: 13, 2: 7})\n"
     ]
    },
    {
     "name": "stderr",
     "output_type": "stream",
     "text": [
      "100%|██████████| 20/20 [00:18<00:00,  1.07it/s]\n"
     ]
    },
    {
     "name": "stdout",
     "output_type": "stream",
     "text": [
      "13 Counter({1: 12, 2: 8})\n"
     ]
    },
    {
     "name": "stderr",
     "output_type": "stream",
     "text": [
      "100%|██████████| 20/20 [00:17<00:00,  1.11it/s]\n"
     ]
    },
    {
     "name": "stdout",
     "output_type": "stream",
     "text": [
      "14 Counter({1: 13, 2: 7})\n"
     ]
    },
    {
     "name": "stderr",
     "output_type": "stream",
     "text": [
      "100%|██████████| 20/20 [00:17<00:00,  1.14it/s]"
     ]
    },
    {
     "name": "stdout",
     "output_type": "stream",
     "text": [
      "15 Counter({2: 12, 1: 8})\n"
     ]
    },
    {
     "name": "stderr",
     "output_type": "stream",
     "text": [
      "\n"
     ]
    }
   ],
   "source": [
    "for r in range(1, 16):\n",
    "    p1 = Player(1)\n",
    "    p2 = MCTSPlayer(2, exploration_weight=2**0.5, calculation_time=0.2, n_rollouts=r)\n",
    "\n",
    "    game = UltimateTicTacToe(p1, p2, grid_size=2)\n",
    "\n",
    "    gameplay = []\n",
    "    for _ in tqdm(range(20)):\n",
    "        gameplay.append(game.play_game())\n",
    "    print(r, Counter(gameplay))"
   ]
  },
  {
   "cell_type": "code",
   "execution_count": 3,
   "metadata": {},
   "outputs": [
    {
     "data": {
      "text/plain": [
       "Counter({2: 12, 1: 8})"
      ]
     },
     "execution_count": 3,
     "metadata": {},
     "output_type": "execute_result"
    }
   ],
   "source": [
    "Counter(gameplay)"
   ]
  },
  {
   "cell_type": "code",
   "execution_count": 4,
   "metadata": {},
   "outputs": [
    {
     "name": "stderr",
     "output_type": "stream",
     "text": [
      "100%|██████████| 20/20 [00:10<00:00,  1.86it/s]\n",
      "100%|██████████| 20/20 [00:10<00:00,  1.97it/s]\n",
      "100%|██████████| 20/20 [00:10<00:00,  1.86it/s]\n",
      "100%|██████████| 20/20 [00:10<00:00,  1.95it/s]\n",
      "100%|██████████| 20/20 [00:09<00:00,  2.02it/s]\n",
      "100%|██████████| 20/20 [00:19<00:00,  1.02it/s]\n",
      "100%|██████████| 20/20 [00:19<00:00,  1.04it/s]\n",
      "100%|██████████| 20/20 [00:19<00:00,  1.01it/s]\n",
      "100%|██████████| 20/20 [00:18<00:00,  1.08it/s]\n",
      "100%|██████████| 20/20 [00:20<00:00,  1.01s/it]\n",
      "100%|██████████| 20/20 [00:29<00:00,  1.48s/it]\n",
      "100%|██████████| 20/20 [00:28<00:00,  1.40s/it]\n",
      "100%|██████████| 20/20 [00:28<00:00,  1.42s/it]\n",
      "100%|██████████| 20/20 [00:27<00:00,  1.37s/it]\n",
      "100%|██████████| 20/20 [00:28<00:00,  1.41s/it]\n",
      "100%|██████████| 20/20 [00:36<00:00,  1.81s/it]\n",
      "100%|██████████| 20/20 [00:37<00:00,  1.90s/it]\n",
      "100%|██████████| 20/20 [00:37<00:00,  1.90s/it]\n",
      " 45%|████▌     | 9/20 [00:17<00:21,  1.99s/it]\n"
     ]
    },
    {
     "ename": "KeyError",
     "evalue": "'wins'",
     "output_type": "error",
     "traceback": [
      "\u001b[0;31m---------------------------------------------------------------------------\u001b[0m",
      "\u001b[0;31mKeyError\u001b[0m                                  Traceback (most recent call last)",
      "\u001b[1;32m/Users/katelanman/Desktop/CS4100/project/ultimate_tic_tac_toe_agents/mcts_testing.ipynb Cell 4\u001b[0m line \u001b[0;36m1\n\u001b[1;32m     <a href='vscode-notebook-cell:/Users/katelanman/Desktop/CS4100/project/ultimate_tic_tac_toe_agents/mcts_testing.ipynb#W2sZmlsZQ%3D%3D?line=10'>11</a>\u001b[0m gameplay \u001b[39m=\u001b[39m []\n\u001b[1;32m     <a href='vscode-notebook-cell:/Users/katelanman/Desktop/CS4100/project/ultimate_tic_tac_toe_agents/mcts_testing.ipynb#W2sZmlsZQ%3D%3D?line=11'>12</a>\u001b[0m \u001b[39mfor\u001b[39;00m _ \u001b[39min\u001b[39;00m tqdm(\u001b[39mrange\u001b[39m(\u001b[39m20\u001b[39m)):\n\u001b[0;32m---> <a href='vscode-notebook-cell:/Users/katelanman/Desktop/CS4100/project/ultimate_tic_tac_toe_agents/mcts_testing.ipynb#W2sZmlsZQ%3D%3D?line=12'>13</a>\u001b[0m     gameplay\u001b[39m.\u001b[39mappend(game\u001b[39m.\u001b[39;49mplay_game())\n\u001b[1;32m     <a href='vscode-notebook-cell:/Users/katelanman/Desktop/CS4100/project/ultimate_tic_tac_toe_agents/mcts_testing.ipynb#W2sZmlsZQ%3D%3D?line=14'>15</a>\u001b[0m gameplay \u001b[39m=\u001b[39m Counter(gameplay)\n\u001b[1;32m     <a href='vscode-notebook-cell:/Users/katelanman/Desktop/CS4100/project/ultimate_tic_tac_toe_agents/mcts_testing.ipynb#W2sZmlsZQ%3D%3D?line=15'>16</a>\u001b[0m results[i] \u001b[39m=\u001b[39m {\u001b[39m\"\u001b[39m\u001b[39mparams\u001b[39m\u001b[39m\"\u001b[39m: [calc_time, n_rollouts], \u001b[39m\"\u001b[39m\u001b[39mresults\u001b[39m\u001b[39m\"\u001b[39m: gameplay}\n",
      "File \u001b[0;32m~/Desktop/CS4100/project/ultimate_tic_tac_toe_agents/game.py:24\u001b[0m, in \u001b[0;36mUltimateTicTacToe.play_game\u001b[0;34m(self)\u001b[0m\n\u001b[1;32m     22\u001b[0m done \u001b[39m=\u001b[39m \u001b[39mFalse\u001b[39;00m\n\u001b[1;32m     23\u001b[0m \u001b[39mwhile\u001b[39;00m \u001b[39mnot\u001b[39;00m done:\n\u001b[0;32m---> 24\u001b[0m     subgrid, move \u001b[39m=\u001b[39m \u001b[39mself\u001b[39;49m\u001b[39m.\u001b[39;49mcurr_player\u001b[39m.\u001b[39;49mmove(board)\n\u001b[1;32m     25\u001b[0m     game_state, result, done \u001b[39m=\u001b[39m board\u001b[39m.\u001b[39msubgrid_move(subgrid, \u001b[39mself\u001b[39m\u001b[39m.\u001b[39mcurr_player, move)\n\u001b[1;32m     27\u001b[0m     \u001b[39m# next player\u001b[39;00m\n",
      "File \u001b[0;32m~/Desktop/CS4100/project/ultimate_tic_tac_toe_agents/MCTS_player.py:191\u001b[0m, in \u001b[0;36mmove\u001b[0;34m(self, board)\u001b[0m\n\u001b[1;32m      0\u001b[0m <Error retrieving source code with stack_data see ipython/ipython#13598>\n",
      "File \u001b[0;32m~/Desktop/CS4100/project/ultimate_tic_tac_toe_agents/MCTS_player.py:175\u001b[0m, in \u001b[0;36mrun_simulation\u001b[0;34m(self, current)\u001b[0m\n\u001b[1;32m      0\u001b[0m <Error retrieving source code with stack_data see ipython/ipython#13598>\n",
      "File \u001b[0;32m~/Desktop/CS4100/project/ultimate_tic_tac_toe_agents/MCTS_player.py:139\u001b[0m, in \u001b[0;36mMCTSPlayer.rollout\u001b[0;34m(self, start_state)\u001b[0m\n\u001b[1;32m    137\u001b[0m \u001b[39mfor\u001b[39;00m node \u001b[39min\u001b[39;00m \u001b[39mself\u001b[39m\u001b[39m.\u001b[39mcurr_path:\n\u001b[1;32m    138\u001b[0m     \u001b[39mself\u001b[39m\u001b[39m.\u001b[39mexplored[node][\u001b[39m'\u001b[39m\u001b[39mwins\u001b[39m\u001b[39m'\u001b[39m] \u001b[39m+\u001b[39m\u001b[39m=\u001b[39m win\n\u001b[0;32m--> 139\u001b[0m     \u001b[39mself\u001b[39m\u001b[39m.\u001b[39mexplored[node][\u001b[39m'\u001b[39m\u001b[39mvisits\u001b[39m\u001b[39m'\u001b[39m] \u001b[39m+\u001b[39m\u001b[39m=\u001b[39m \u001b[39m1\u001b[39m\n",
      "\u001b[0;31mKeyError\u001b[0m: 'wins'"
     ]
    }
   ],
   "source": [
    "# testing on a 2x2 grid\n",
    "results = defaultdict()\n",
    "i = 0\n",
    "for calc_time in np.arange(0.1, 0.6, 0.1):\n",
    "    for n_rollouts in range(5, 26, 5):\n",
    "        p1 = Player(1)\n",
    "        p2 = MCTSPlayer(2, exploration_weight=2**0.5, calculation_time=calc_time, n_rollouts=30)\n",
    "\n",
    "        game = UltimateTicTacToe(p1, p2, grid_size=2)\n",
    "\n",
    "        gameplay = []\n",
    "        for _ in tqdm(range(20)):\n",
    "            gameplay.append(game.play_game())\n",
    "\n",
    "        gameplay = Counter(gameplay)\n",
    "        results[i] = {\"params\": [calc_time, n_rollouts], \"results\": gameplay}\n",
    "\n",
    "        i += 1\n"
   ]
  },
  {
   "cell_type": "code",
   "execution_count": 5,
   "metadata": {},
   "outputs": [
    {
     "name": "stderr",
     "output_type": "stream",
     "text": [
      "100%|██████████| 100/100 [09:58<00:00,  5.99s/it]\n"
     ]
    },
    {
     "data": {
      "text/plain": [
       "Counter({1: 71, 2: 17, -1: 12})"
      ]
     },
     "execution_count": 5,
     "metadata": {},
     "output_type": "execute_result"
    }
   ],
   "source": [
    "# testing on a 3x3 grid\n",
    "p1 = MCTSPlayer(1, exploration_weight=2**0.5, calculation_time=0.2, n_rollouts=10)\n",
    "p2 = Player(2)\n",
    "game = UltimateTicTacToe(p1, p2, grid_size=3)\n",
    "\n",
    "results = []\n",
    "for _ in tqdm(range(100)):\n",
    "    results.append(game.play_game())\n",
    "Counter(results)\n"
   ]
  },
  {
   "cell_type": "code",
   "execution_count": 56,
   "metadata": {},
   "outputs": [
    {
     "name": "stderr",
     "output_type": "stream",
     "text": [
      "<>:18: SyntaxWarning: invalid escape sequence '\\s'\n",
      "<>:18: SyntaxWarning: invalid escape sequence '\\s'\n",
      "/var/folders/rt/y418zwhn7mv6tf_kxcm3nbtm0000gn/T/ipykernel_79181/3197770978.py:18: SyntaxWarning: invalid escape sequence '\\s'\n",
      "  plt.title(\"$\\sqrt{2}$ learning weight, 0.2s calculation time, 10 rollouts per simulation\")\n"
     ]
    },
    {
     "data": {
      "image/png": "[encoded data removed]",
      "text/plain": [
       "<Figure size 640x480 with 1 Axes>"
      ]
     },
     "metadata": {
      "needs_background": "light"
     },
     "output_type": "display_data"
    }
   ],
   "source": [
    "x = [\"2x2\", \"3x3\"]\n",
    "width = 0.5\n",
    "\n",
    "fig, ax = plt.subplots(facecolor=\"none\")\n",
    "bottom = np.zeros(2)\n",
    "\n",
    "results = {'losses':[36,17],'draws':[0,12],'wins':[64,71]}\n",
    "\n",
    "colors = [\"#912d2d\", \"#7f9a9f\", \"#055961\"]\n",
    "i = 0\n",
    "for label, res in results.items():\n",
    "    p = ax.bar(x, res, width, label=label, bottom=bottom, color=colors[i])\n",
    "    bottom += res\n",
    "    i += 1\n",
    "\n",
    "plt.xlabel(\"grid size\")\n",
    "plt.ylabel(\"results\")\n",
    "plt.title(\"$\\sqrt{2}$ learning weight, 0.2s calculation time, 10 rollouts per simulation\")\n",
    "plt.suptitle(\"MCTS Results with Different Grid Sizes\")\n",
    "plt.legend(bbox_to_anchor=(1.05, 1), loc='upper left')\n",
    "plt.show()"
   ]
  },
  {
   "cell_type": "code",
   "execution_count": 6,
   "metadata": {},
   "outputs": [
    {
     "name": "stderr",
     "output_type": "stream",
     "text": [
      "  0%|          | 0/100 [00:00<?, ?it/s]"
     ]
    },
    {
     "name": "stderr",
     "output_type": "stream",
     "text": [
      "100%|██████████| 100/100 [01:28<00:00,  1.13it/s]\n"
     ]
    },
    {
     "data": {
      "text/plain": [
       "Counter({1: 64, 2: 36})"
      ]
     },
     "execution_count": 6,
     "metadata": {},
     "output_type": "execute_result"
    }
   ],
   "source": [
    "# testing on a 3x3 grid\n",
    "p1 = MCTSPlayer(1, exploration_weight=2**0.5, calculation_time=0.2, n_rollouts=10)\n",
    "p2 = Player(2)\n",
    "game = UltimateTicTacToe(p1, p2, grid_size=2)\n",
    "\n",
    "results = []\n",
    "for _ in tqdm(range(100)):\n",
    "    results.append(game.play_game())\n",
    "Counter(results)\n"
   ]
  },
  {
   "cell_type": "code",
   "execution_count": 12,
   "metadata": {},
   "outputs": [
    {
     "name": "stderr",
     "output_type": "stream",
     "text": [
      "  0%|          | 0/100 [00:00<?, ?it/s]"
     ]
    },
    {
     "name": "stderr",
     "output_type": "stream",
     "text": [
      "100%|██████████| 100/100 [00:51<00:00,  1.93it/s]\n"
     ]
    },
    {
     "data": {
      "text/plain": [
       "Counter({2: 67, 1: 33})"
      ]
     },
     "execution_count": 12,
     "metadata": {},
     "output_type": "execute_result"
    }
   ],
   "source": [
    "p1 = Player(1)\n",
    "p2 = MCTSPlayer(2, exploration_weight=2**0.5, calculation_time=0.1, n_rollouts=25)\n",
    "game = UltimateTicTacToe(p1, p2, grid_size=2)\n",
    "\n",
    "results = []\n",
    "for _ in tqdm(range(100)):\n",
    "    results.append(game.play_game())\n",
    "Counter(results)"
   ]
  },
  {
   "cell_type": "code",
   "execution_count": 16,
   "metadata": {},
   "outputs": [
    {
     "name": "stderr",
     "output_type": "stream",
     "text": [
      "100%|██████████| 100/100 [06:01<00:00,  3.61s/it]\n"
     ]
    },
    {
     "data": {
      "text/plain": [
       "Counter({2: 37, 1: 37, -1: 26})"
      ]
     },
     "execution_count": 16,
     "metadata": {},
     "output_type": "execute_result"
    }
   ],
   "source": [
    "p1 = Player(1)\n",
    "p2 = MCTSPlayer(2, exploration_weight=2**0.5, calculation_time=0.1, n_rollouts=25)\n",
    "game = UltimateTicTacToe(p1, p2, grid_size=3)\n",
    "\n",
    "results = []\n",
    "for _ in tqdm(range(100)):\n",
    "    results.append(game.play_game())\n",
    "Counter(results)"
   ]
  },
  {
   "cell_type": "code",
   "execution_count": 3,
   "metadata": {},
   "outputs": [
    {
     "name": "stderr",
     "output_type": "stream",
     "text": [
      "  2%|▏         | 2/100 [00:08<07:03,  4.32s/it]\n"
     ]
    },
    {
     "ename": "KeyboardInterrupt",
     "evalue": "",
     "output_type": "error",
     "traceback": [
      "\u001b[0;31m---------------------------------------------------------------------------\u001b[0m",
      "\u001b[0;31mKeyboardInterrupt\u001b[0m                         Traceback (most recent call last)",
      "\u001b[1;32m/Users/katelanman/Desktop/CS4100/project/ultimate_tic_tac_toe_agents/mcts_testing.ipynb Cell 3\u001b[0m line \u001b[0;36m1\n\u001b[1;32m     <a href='vscode-notebook-cell:/Users/katelanman/Desktop/CS4100/project/ultimate_tic_tac_toe_agents/mcts_testing.ipynb#X32sZmlsZQ%3D%3D?line=9'>10</a>\u001b[0m results \u001b[39m=\u001b[39m []\n\u001b[1;32m     <a href='vscode-notebook-cell:/Users/katelanman/Desktop/CS4100/project/ultimate_tic_tac_toe_agents/mcts_testing.ipynb#X32sZmlsZQ%3D%3D?line=10'>11</a>\u001b[0m \u001b[39mfor\u001b[39;00m _ \u001b[39min\u001b[39;00m tqdm(\u001b[39mrange\u001b[39m(\u001b[39m100\u001b[39m)):\n\u001b[0;32m---> <a href='vscode-notebook-cell:/Users/katelanman/Desktop/CS4100/project/ultimate_tic_tac_toe_agents/mcts_testing.ipynb#X32sZmlsZQ%3D%3D?line=11'>12</a>\u001b[0m     results\u001b[39m.\u001b[39mappend(game\u001b[39m.\u001b[39;49mplay_game())\n\u001b[1;32m     <a href='vscode-notebook-cell:/Users/katelanman/Desktop/CS4100/project/ultimate_tic_tac_toe_agents/mcts_testing.ipynb#X32sZmlsZQ%3D%3D?line=13'>14</a>\u001b[0m results \u001b[39m=\u001b[39m Counter(results)\n\u001b[1;32m     <a href='vscode-notebook-cell:/Users/katelanman/Desktop/CS4100/project/ultimate_tic_tac_toe_agents/mcts_testing.ipynb#X32sZmlsZQ%3D%3D?line=14'>15</a>\u001b[0m wins\u001b[39m.\u001b[39mappend(results[\u001b[39m2\u001b[39m])\n",
      "File \u001b[0;32m~/Desktop/CS4100/project/ultimate_tic_tac_toe_agents/game.py:24\u001b[0m, in \u001b[0;36mUltimateTicTacToe.play_game\u001b[0;34m(self)\u001b[0m\n\u001b[1;32m     22\u001b[0m done \u001b[39m=\u001b[39m \u001b[39mFalse\u001b[39;00m\n\u001b[1;32m     23\u001b[0m \u001b[39mwhile\u001b[39;00m \u001b[39mnot\u001b[39;00m done:\n\u001b[0;32m---> 24\u001b[0m     subgrid, move \u001b[39m=\u001b[39m \u001b[39mself\u001b[39;49m\u001b[39m.\u001b[39;49mcurr_player\u001b[39m.\u001b[39;49mmove(board)\n\u001b[1;32m     25\u001b[0m     game_state, result, done \u001b[39m=\u001b[39m board\u001b[39m.\u001b[39msubgrid_move(subgrid, \u001b[39mself\u001b[39m\u001b[39m.\u001b[39mcurr_player, move)\n\u001b[1;32m     27\u001b[0m     \u001b[39m# next player\u001b[39;00m\n",
      "File \u001b[0;32m~/Desktop/CS4100/project/ultimate_tic_tac_toe_agents/MCTS_player.py:187\u001b[0m, in \u001b[0;36mMCTSPlayer.move\u001b[0;34m(self, board)\u001b[0m\n\u001b[1;32m    185\u001b[0m begin \u001b[39m=\u001b[39m time\u001b[39m.\u001b[39mtime()\n\u001b[1;32m    186\u001b[0m \u001b[39mwhile\u001b[39;00m time\u001b[39m.\u001b[39mtime() \u001b[39m-\u001b[39m begin \u001b[39m<\u001b[39m \u001b[39mself\u001b[39m\u001b[39m.\u001b[39mcalculation_time:\n\u001b[0;32m--> 187\u001b[0m     \u001b[39mself\u001b[39;49m\u001b[39m.\u001b[39;49mrun_simulation(state)\n\u001b[1;32m    189\u001b[0m \u001b[39m# calculate best move\u001b[39;00m\n\u001b[1;32m    190\u001b[0m pos \u001b[39m=\u001b[39m \u001b[39mself\u001b[39m\u001b[39m.\u001b[39mUCT(state)\n",
      "File \u001b[0;32m~/Desktop/CS4100/project/ultimate_tic_tac_toe_agents/MCTS_player.py:171\u001b[0m, in \u001b[0;36mMCTSPlayer.run_simulation\u001b[0;34m(self, current)\u001b[0m\n\u001b[1;32m    168\u001b[0m     current \u001b[39m=\u001b[39m \u001b[39mself\u001b[39m\u001b[39m.\u001b[39mpick_unvisited(current)\n\u001b[1;32m    170\u001b[0m \u001b[39mfor\u001b[39;00m _ \u001b[39min\u001b[39;00m \u001b[39mrange\u001b[39m(\u001b[39mself\u001b[39m\u001b[39m.\u001b[39mn_rollouts):\n\u001b[0;32m--> 171\u001b[0m     \u001b[39mself\u001b[39;49m\u001b[39m.\u001b[39;49mrollout(current)\n\u001b[1;32m    173\u001b[0m \u001b[39mself\u001b[39m\u001b[39m.\u001b[39mcurr_path \u001b[39m=\u001b[39m []\n",
      "File \u001b[0;32m~/Desktop/CS4100/project/ultimate_tic_tac_toe_agents/MCTS_player.py:119\u001b[0m, in \u001b[0;36mMCTSPlayer.rollout\u001b[0;34m(self, start_state)\u001b[0m\n\u001b[1;32m    117\u001b[0m \u001b[39m\u001b[39m\u001b[39m\"\"\" run a simulated playout from a given start state\"\"\"\u001b[39;00m\n\u001b[1;32m    118\u001b[0m \u001b[39m# simulation\u001b[39;00m\n\u001b[0;32m--> 119\u001b[0m sim_board \u001b[39m=\u001b[39m UltimateTicTacToeBoard(init_state\u001b[39m=\u001b[39;49mstart_state)\n\u001b[1;32m    120\u001b[0m player \u001b[39m=\u001b[39m Player(\u001b[39mself\u001b[39m\u001b[39m.\u001b[39mid)\n\u001b[1;32m    121\u001b[0m opponent \u001b[39m=\u001b[39m Player(\u001b[39mself\u001b[39m\u001b[39m.\u001b[39mid \u001b[39m%\u001b[39m \u001b[39m2\u001b[39m \u001b[39m+\u001b[39m \u001b[39m1\u001b[39m)\n",
      "File \u001b[0;32m~/Desktop/CS4100/project/ultimate_tic_tac_toe_agents/board.py:116\u001b[0m, in \u001b[0;36mUltimateTicTacToeBoard.__init__\u001b[0;34m(self, grid_size, init_state)\u001b[0m\n\u001b[1;32m    114\u001b[0m \u001b[39mself\u001b[39m\u001b[39m.\u001b[39mcurr_subgrid \u001b[39m=\u001b[39m \u001b[39mNone\u001b[39;00m\n\u001b[1;32m    115\u001b[0m \u001b[39mif\u001b[39;00m init_state:\n\u001b[0;32m--> 116\u001b[0m     \u001b[39mself\u001b[39;49m\u001b[39m.\u001b[39;49m_update_board(init_state)\n",
      "File \u001b[0;32m~/Desktop/CS4100/project/ultimate_tic_tac_toe_agents/board.py:127\u001b[0m, in \u001b[0;36mUltimateTicTacToeBoard._update_board\u001b[0;34m(self, state)\u001b[0m\n\u001b[1;32m    119\u001b[0m \u001b[39m\u001b[39m\u001b[39m\"\"\" \u001b[39;00m\n\u001b[1;32m    120\u001b[0m \u001b[39mset board configuration given a string representation of the state \u001b[39;00m\n\u001b[1;32m    121\u001b[0m \u001b[39mparams:\u001b[39;00m\n\u001b[1;32m    122\u001b[0m \u001b[39m    state: first (n*n)^2 characters indicate the status of each square (0 - empty, 1,2 - player 1 or 2),\u001b[39;00m\n\u001b[1;32m    123\u001b[0m \u001b[39m           final characters represent the current playable subgrid (0 - all, 1,...,(n*n))\u001b[39;00m\n\u001b[1;32m    124\u001b[0m \u001b[39m\"\"\"\u001b[39;00m\n\u001b[1;32m    125\u001b[0m n \u001b[39m=\u001b[39m \u001b[39mself\u001b[39m\u001b[39m.\u001b[39mgrid_size\n\u001b[1;32m    126\u001b[0m \u001b[39mself\u001b[39m\u001b[39m.\u001b[39msubgrids \u001b[39m=\u001b[39m np\u001b[39m.\u001b[39marray(\n\u001b[0;32m--> 127\u001b[0m     [[Board(n, state[(i)\u001b[39m*\u001b[39;49m(n\u001b[39m*\u001b[39;49m\u001b[39m*\u001b[39;49m\u001b[39m3\u001b[39;49m):(i\u001b[39m+\u001b[39;49m\u001b[39m1\u001b[39;49m)\u001b[39m*\u001b[39;49m(n\u001b[39m*\u001b[39;49m\u001b[39m*\u001b[39;49m\u001b[39m3\u001b[39;49m)][j\u001b[39m*\u001b[39;49m(n\u001b[39m*\u001b[39;49m\u001b[39m*\u001b[39;49m\u001b[39m2\u001b[39;49m):(j\u001b[39m+\u001b[39;49m\u001b[39m1\u001b[39;49m)\u001b[39m*\u001b[39;49m(n\u001b[39m*\u001b[39;49m\u001b[39m*\u001b[39;49m\u001b[39m2\u001b[39;49m)]) \u001b[39mfor\u001b[39;00m j \u001b[39min\u001b[39;00m \u001b[39mrange\u001b[39m(n)] \u001b[39mfor\u001b[39;00m i \u001b[39min\u001b[39;00m \u001b[39mrange\u001b[39m(n)]\n\u001b[1;32m    128\u001b[0m )\n\u001b[1;32m    129\u001b[0m \u001b[39mself\u001b[39m\u001b[39m.\u001b[39mstate \u001b[39m=\u001b[39m np\u001b[39m.\u001b[39marray([[check_win(\u001b[39mself\u001b[39m\u001b[39m.\u001b[39msubgrids[i,j]\u001b[39m.\u001b[39mstate) \u001b[39mfor\u001b[39;00m j \u001b[39min\u001b[39;00m \u001b[39mrange\u001b[39m(n)] \u001b[39mfor\u001b[39;00m i \u001b[39min\u001b[39;00m \u001b[39mrange\u001b[39m(n)])\n\u001b[1;32m    131\u001b[0m \u001b[39mself\u001b[39m\u001b[39m.\u001b[39mcurr_subgrid \u001b[39m=\u001b[39m \u001b[39mtuple\u001b[39m([(\u001b[39mint\u001b[39m(state[n\u001b[39m*\u001b[39m\u001b[39m*\u001b[39m\u001b[39m4\u001b[39m:]) \u001b[39m-\u001b[39m \u001b[39m1\u001b[39m) \u001b[39m/\u001b[39m\u001b[39m/\u001b[39m n, (\u001b[39mint\u001b[39m(state[n\u001b[39m*\u001b[39m\u001b[39m*\u001b[39m\u001b[39m4\u001b[39m:]) \u001b[39m-\u001b[39m \u001b[39m1\u001b[39m) \u001b[39m%\u001b[39m n])\n",
      "File \u001b[0;32m~/Desktop/CS4100/project/ultimate_tic_tac_toe_agents/board.py:41\u001b[0m, in \u001b[0;36mBoard.__init__\u001b[0;34m(self, grid_size, init_state)\u001b[0m\n\u001b[1;32m     38\u001b[0m \u001b[39mself\u001b[39m\u001b[39m.\u001b[39mplayable \u001b[39m=\u001b[39m \u001b[39mTrue\u001b[39;00m\n\u001b[1;32m     40\u001b[0m \u001b[39mif\u001b[39;00m init_state:\n\u001b[0;32m---> 41\u001b[0m     \u001b[39mself\u001b[39;49m\u001b[39m.\u001b[39;49m_update_board(init_state)\n",
      "File \u001b[0;32m~/Desktop/CS4100/project/ultimate_tic_tac_toe_agents/board.py:44\u001b[0m, in \u001b[0;36mBoard._update_board\u001b[0;34m(self, state)\u001b[0m\n\u001b[1;32m     43\u001b[0m \u001b[39mdef\u001b[39;00m\u001b[39m \u001b[39m\u001b[39m_update_board\u001b[39m(\u001b[39mself\u001b[39m, state):\n\u001b[0;32m---> 44\u001b[0m     \u001b[39mself\u001b[39m\u001b[39m.\u001b[39mstate \u001b[39m=\u001b[39m np\u001b[39m.\u001b[39marray([np\u001b[39m.\u001b[39marray(\u001b[39mlist\u001b[39;49m(state[(i)\u001b[39m*\u001b[39;49m\u001b[39mself\u001b[39;49m\u001b[39m.\u001b[39;49mgrid_size:(i\u001b[39m+\u001b[39;49m\u001b[39m1\u001b[39;49m)\u001b[39m*\u001b[39;49m\u001b[39mself\u001b[39;49m\u001b[39m.\u001b[39;49mgrid_size]))\u001b[39m.\u001b[39mastype(\u001b[39mint\u001b[39m) \n\u001b[1;32m     45\u001b[0m                            \u001b[39mfor\u001b[39;00m i \u001b[39min\u001b[39;00m \u001b[39mrange\u001b[39m(\u001b[39m0\u001b[39m, \u001b[39mself\u001b[39m\u001b[39m.\u001b[39mgrid_size)])\n\u001b[1;32m     46\u001b[0m     \u001b[39mif\u001b[39;00m check_win(\u001b[39mself\u001b[39m\u001b[39m.\u001b[39mstate):\n\u001b[1;32m     47\u001b[0m         \u001b[39mself\u001b[39m\u001b[39m.\u001b[39mplayable \u001b[39m=\u001b[39m \u001b[39mFalse\u001b[39;00m\n",
      "\u001b[0;31mKeyboardInterrupt\u001b[0m: "
     ]
    }
   ],
   "source": [
    "wins = []\n",
    "losses = []\n",
    "ties = []\n",
    "for calc_time in np.arange(0.1, 1.1, 0.1):\n",
    "    p1 = Player(1)\n",
    "    p2 = MCTSPlayer(2, exploration_weight=2**0.5, calculation_time=calc_time, n_rollouts=30)\n",
    "\n",
    "    game = UltimateTicTacToe(p1, p2)\n",
    "\n",
    "    results = []\n",
    "    for _ in tqdm(range(100)):\n",
    "        results.append(game.play_game())\n",
    "\n",
    "    results = Counter(results)\n",
    "    wins.append(results[2])\n",
    "    losses.append(results[1])\n",
    "    ties.append(results[-1])"
   ]
  },
  {
   "cell_type": "code",
   "execution_count": 82,
   "metadata": {},
   "outputs": [
    {
     "data": {
      "image/png": "[encoded data removed]",
      "text/plain": [
       "<Figure size 640x480 with 1 Axes>"
      ]
     },
     "metadata": {},
     "output_type": "display_data"
    }
   ],
   "source": [
    "x = [str(round(x,1)) for x in np.arange(0.1,1,0.1)]\n",
    "width = 0.5\n",
    "\n",
    "fig, ax = plt.subplots()\n",
    "bottom = np.zeros(len(wins))\n",
    "\n",
    "results = {'losses':losses,'draws':ties,'wins':wins}\n",
    "\n",
    "colors = [\"indianred\", \"slategrey\", \"darkseagreen\"]\n",
    "i = 0\n",
    "for label, res in results.items():\n",
    "    p = ax.bar(x, res, width, label=label, bottom=bottom, color=colors[i])\n",
    "    bottom += res\n",
    "    i += 1\n",
    "\n",
    "plt.legend()\n",
    "plt.show()"
   ]
  },
  {
   "cell_type": "code",
   "execution_count": 84,
   "metadata": {},
   "outputs": [
    {
     "name": "stderr",
     "output_type": "stream",
     "text": [
      "  0%|          | 0/10 [00:00<?, ?it/s]"
     ]
    },
    {
     "name": "stderr",
     "output_type": "stream",
     "text": [
      "100%|██████████| 10/10 [00:32<00:00,  3.28s/it]\n",
      "100%|██████████| 10/10 [00:34<00:00,  3.43s/it]\n",
      "100%|██████████| 10/10 [00:33<00:00,  3.33s/it]\n",
      "100%|██████████| 10/10 [00:31<00:00,  3.16s/it]\n",
      "100%|██████████| 10/10 [00:30<00:00,  3.00s/it]\n"
     ]
    }
   ],
   "source": [
    "wins = []\n",
    "losses = []\n",
    "ties = []\n",
    "for rollouts in np.arange(5, 10):\n",
    "    p1 = Player(2)\n",
    "    p2 = MCTSPlayer(1, exploration_weight=2**0.5, calculation_time=0.1, n_rollouts=rollouts)\n",
    "\n",
    "    game = UltimateTicTacToe(p1, p2)\n",
    "\n",
    "    results = []\n",
    "    for _ in tqdm(range(10)):\n",
    "        results.append(game.play_game())\n",
    "\n",
    "    results = Counter(results)\n",
    "    wins.append(results[2])\n",
    "    losses.append(results[1])\n",
    "    ties.append(results[-1])"
   ]
  },
  {
   "cell_type": "code",
   "execution_count": 86,
   "metadata": {},
   "outputs": [
    {
     "data": {
      "image/png": "[encoded data removed]",
      "text/plain": [
       "<Figure size 640x480 with 1 Axes>"
      ]
     },
     "metadata": {},
     "output_type": "display_data"
    }
   ],
   "source": [
    "x = np.arange(10,15)\n",
    "width = 0.5\n",
    "\n",
    "fig, ax = plt.subplots()\n",
    "bottom = np.zeros(len(wins))\n",
    "\n",
    "results = {'losses':losses,'draws':ties,'wins':wins}\n",
    "\n",
    "colors = [\"indianred\", \"slategrey\", \"darkseagreen\"]\n",
    "i = 0\n",
    "for label, res in results.items():\n",
    "    p = ax.bar(x.astype(str), res, width, label=label, bottom=bottom, color=colors[i])\n",
    "    bottom += res\n",
    "    i += 1\n",
    "\n",
    "plt.legend()\n",
    "plt.show()"
   ]
  },
  {
   "cell_type": "code",
   "execution_count": 21,
   "metadata": {},
   "outputs": [
    {
     "data": {
      "image/png": "[encoded data removed]",
      "text/plain": [
       "<Figure size 640x480 with 1 Axes>"
      ]
     },
     "metadata": {},
     "output_type": "display_data"
    }
   ],
   "source": [
    "x = np.arange(1, 20)\n",
    "plt.plot(x, wins, label=\"wins\")\n",
    "plt.plot(x, losses, label=\"losses\")\n",
    "plt.plot(x, ties, label=\"ties\")\n",
    "\n",
    "plt.legend()\n",
    "plt.show()"
   ]
  },
  {
   "cell_type": "code",
   "execution_count": 5,
   "metadata": {},
   "outputs": [
    {
     "name": "stderr",
     "output_type": "stream",
     "text": [
      "100%|██████████| 10/10 [05:12<00:00, 31.21s/it]"
     ]
    },
    {
     "name": "stdout",
     "output_type": "stream",
     "text": [
      "Counter({-1: 4, 2: 4, 1: 2})\n"
     ]
    },
    {
     "name": "stderr",
     "output_type": "stream",
     "text": [
      "\n"
     ]
    }
   ],
   "source": [
    "p1 = Player(1)\n",
    "p2 = MCTSPlayer(2, exploration_weight=2**0.5, calculation_time=1, n_rollouts=20)\n",
    "\n",
    "game = UltimateTicTacToe(p1, p2)\n",
    "\n",
    "results = []\n",
    "for _ in tqdm(range(10)):\n",
    "    results.append(game.play_game())\n",
    "\n",
    "print(Counter(results))"
   ]
  },
  {
   "cell_type": "code",
   "execution_count": null,
   "metadata": {},
   "outputs": [
    {
     "name": "stderr",
     "output_type": "stream",
     "text": [
      "100%|██████████| 10/10 [00:29<00:00,  2.91s/it]"
     ]
    },
    {
     "name": "stdout",
     "output_type": "stream",
     "text": [
      "Counter({1: 6, -1: 2, 2: 2})\n"
     ]
    },
    {
     "name": "stderr",
     "output_type": "stream",
     "text": [
      "\n"
     ]
    }
   ],
   "source": [
    "p2 = Player(2)\n",
    "p1 = MCTSPlayer(1, exploration_weight=2**0.5, calculation_time=1, n_rollouts=20)\n",
    "\n",
    "game = UltimateTicTacToe(p1, p2)\n",
    "\n",
    "results = []\n",
    "for _ in tqdm(range(10)):\n",
    "    results.append(game.play_game())\n",
    "\n",
    "print(Counter(results))"
   ]
  },
  {
   "cell_type": "code",
   "execution_count": 8,
   "metadata": {},
   "outputs": [
    {
     "name": "stderr",
     "output_type": "stream",
     "text": [
      "100%|██████████| 10/10 [01:11<00:00,  7.19s/it]"
     ]
    },
    {
     "name": "stdout",
     "output_type": "stream",
     "text": [
      "Counter({1: 10})\n"
     ]
    },
    {
     "name": "stderr",
     "output_type": "stream",
     "text": [
      "\n"
     ]
    }
   ],
   "source": [
    "p1 = MCTSPlayer(1, exploration_weight=1, calculation_time=0.2, n_rollouts=10)\n",
    "p2 = MCTSPlayer(2, exploration_weight=2**0.5, calculation_time=0.2, n_rollouts=50)\n",
    "\n",
    "game = UltimateTicTacToe(p1, p2)\n",
    "\n",
    "results = []\n",
    "for _ in tqdm(range(10)):\n",
    "    results.append(game.play_game())\n",
    "\n",
    "print(Counter(results))"
   ]
  },
  {
   "cell_type": "code",
   "execution_count": 9,
   "metadata": {},
   "outputs": [
    {
     "name": "stderr",
     "output_type": "stream",
     "text": [
      "100%|██████████| 10/10 [00:59<00:00,  5.94s/it]"
     ]
    },
    {
     "name": "stdout",
     "output_type": "stream",
     "text": [
      "Counter({1: 8, -1: 2})\n"
     ]
    },
    {
     "name": "stderr",
     "output_type": "stream",
     "text": [
      "\n"
     ]
    }
   ],
   "source": [
    "p1 = MCTSPlayer(1, exploration_weight=1, calculation_time=0.2, n_rollouts=10)\n",
    "p2 = Player(2)\n",
    "\n",
    "game = UltimateTicTacToe(p1, p2)\n",
    "\n",
    "results = []\n",
    "for _ in tqdm(range(10)):\n",
    "    results.append(game.play_game())\n",
    "\n",
    "print(Counter(results))"
   ]
  },
  {
   "cell_type": "code",
   "execution_count": 5,
   "metadata": {},
   "outputs": [
    {
     "name": "stderr",
     "output_type": "stream",
     "text": [
      "100%|██████████| 100/100 [00:34<00:00,  2.88it/s]"
     ]
    },
    {
     "name": "stdout",
     "output_type": "stream",
     "text": [
      "Counter({2: 95, -1: 4, 1: 1})\n"
     ]
    },
    {
     "name": "stderr",
     "output_type": "stream",
     "text": [
      "\n"
     ]
    }
   ],
   "source": [
    "p1 = Player(1)\n",
    "p2 = AlphaBetaMiniMaxPlayer(2, depth=3)\n",
    "game = UltimateTicTacToe(p1, p2)\n",
    "game.play_game()\n",
    "\n",
    "results = []\n",
    "for _ in tqdm(range(100)):\n",
    "    results.append(game.play_game())\n",
    "\n",
    "print(Counter(results))"
   ]
  }
 ],
 "metadata": {
  "kernelspec": {
   "display_name": "ds4420",
   "language": "python",
   "name": "python3"
  },
  "language_info": {
   "codemirror_mode": {
    "name": "ipython",
    "version": 3
   },
   "file_extension": ".py",
   "mimetype": "text/x-python",
   "name": "python",
   "nbconvert_exporter": "python",
   "pygments_lexer": "ipython3",
   "version": "3.12.8"
  },
  "orig_nbformat": 4
 },
 "nbformat": 4,
 "nbformat_minor": 2
}
