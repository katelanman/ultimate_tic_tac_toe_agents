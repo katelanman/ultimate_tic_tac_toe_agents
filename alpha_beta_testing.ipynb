{
 "cells": [
  {
   "cell_type": "code",
   "execution_count": 2,
   "metadata": {},
   "outputs": [],
   "source": [
    "from game import UltimateTicTacToe\n",
    "from player import Player\n",
    "from MCTS_player import MCTSPlayer\n",
    "from AlphaBeta_player import AlphaBetaMiniMaxPlayer\n",
    "\n",
    "from tqdm import tqdm\n",
    "from collections import Counter\n",
    "import numpy as np\n",
    "\n",
    "import matplotlib.pyplot as plt"
   ]
  },
  {
   "cell_type": "code",
   "execution_count": null,
   "metadata": {},
   "outputs": [],
   "source": [
    "p1 = Player(1)\n",
    "p2 = AlphaBetaMiniMaxPlayer(2, depth=3)\n",
    "\n",
    "game = UltimateTicTacToe(p1, p2)\n",
    "\n",
    "results = []\n",
    "for _ in tqdm(range(100)):\n",
    "    results.append(game.play_game())\n",
    "\n",
    "print(Counter(results))"
   ]
  },
  {
   "cell_type": "code",
   "execution_count": null,
   "metadata": {},
   "outputs": [],
   "source": [
    "p1 = AlphaBetaMiniMaxPlayer(1, depth=3)\n",
    "p2 = Player(2)\n",
    "game = UltimateTicTacToe(p1, p2)\n",
    "\n",
    "results = []\n",
    "for _ in tqdm(range(100)):\n",
    "    results.append(game.play_game())\n",
    "\n",
    "print(Counter(results))\n"
   ]
  },
  {
   "cell_type": "code",
   "execution_count": null,
   "metadata": {},
   "outputs": [],
   "source": [
    "p1 = MCTSPlayer(1, exploration_weight=.5, calculation_time=2, n_rollouts=100)\n",
    "p2 = AlphaBetaMiniMaxPlayer(2, depth=3)\n",
    "\n",
    "game = UltimateTicTacToe(p1, p2)\n",
    "\n",
    "results = []\n",
    "for _ in tqdm(range(100)):\n",
    "    results.append(game.play_game())\n",
    "\n",
    "print(Counter(results))\n"
   ]
  },
  {
   "cell_type": "code",
   "execution_count": null,
   "metadata": {},
   "outputs": [],
   "source": [
    "p1 = AlphaBetaMiniMaxPlayer(1, depth=3)\n",
    "p2 = MCTSPlayer(2, exploration_weight=2.5, calculation_time=2, n_rollouts=100)\n",
    "\n",
    "game = UltimateTicTacToe(p1, p2)\n",
    "\n",
    "results = []\n",
    "for _ in tqdm(range(100)):\n",
    "    results.append(game.play_game())\n",
    "\n",
    "print(Counter(results))\n"
   ]
  },
  {
   "cell_type": "code",
   "execution_count": null,
   "metadata": {},
   "outputs": [],
   "source": [
    "depths = range(1, 6)\n",
    "grid_sizes = [2, 3]\n",
    "num_games = 100\n",
    "\n",
    "results = {}\n",
    "\n",
    "for grid_size in grid_sizes:\n",
    "    results[grid_size] = {}\n",
    "    for depth in tqdm(depths):\n",
    "        p1 = AlphaBetaMiniMaxPlayer(1, depth=depth)\n",
    "        p2 = Player(2)\n",
    "        game = UltimateTicTacToe(p1, p2, grid_size=grid_size)\n",
    "        \n",
    "        outcomes = []\n",
    "        for _ in tqdm(range(num_games)):\n",
    "            outcome = game.play_game()\n",
    "            outcomes.append(outcome)\n",
    "        \n",
    "        counter = Counter(outcomes)\n",
    "        win_percentage = counter.get(1, 0) / num_games\n",
    "        results[grid_size][depth] = win_percentage\n",
    "\n",
    "plt.figure(figsize=(10, 6))\n",
    "\n",
    "for grid_size, result in results.items():\n",
    "    depths_list = list(result.keys())\n",
    "    win_percentages = list(result.values())\n",
    "    plt.plot(depths_list, win_percentages, marker='o', linewidth=2, label=f'Grid size = {grid_size}')\n",
    "\n",
    "plt.xlabel('Depth')\n",
    "plt.ylabel('Win Percentage')\n",
    "plt.title('AlphaBetaPlayer Win Percentage vs Depth')\n",
    "plt.xticks(depths)\n",
    "plt.yticks(np.arange(0, 1.1, 0.1))\n",
    "plt.grid(True, linestyle='--', alpha=0.7)\n",
    "plt.legend()\n",
    "plt.tight_layout()\n",
    "plt.savefig('alpha_beta_result.png')\n",
    "plt.show()\n"
   ]
  },
  {
   "cell_type": "code",
   "execution_count": null,
   "metadata": {},
   "outputs": [],
   "source": [
    "depths = range(1, 6)\n",
    "minimax_wins = []\n",
    "minimax_losses = []\n",
    "minimax_ties = []\n",
    "\n",
    "for depth in tqdm(depths):\n",
    "        p1 = AlphaBetaMiniMaxPlayer(1, depth=depth)\n",
    "        p2 = Player(2)\n",
    "\n",
    "        game = UltimateTicTacToe(p1, p2)\n",
    "        \n",
    "        results = []\n",
    "        for _ in tqdm(range(100)):\n",
    "            results.append(game.play_game())\n",
    "            \n",
    "        results = Counter(results)\n",
    "        minimax_wins.append(results[1])\n",
    "        minimax_losses.append(results[2])\n",
    "        minimax_ties.append(results[-1])"
   ]
  },
  {
   "cell_type": "code",
   "execution_count": null,
   "metadata": {},
   "outputs": [],
   "source": [
    "x = np.arange(1,6)\n",
    "width = 0.5\n",
    "\n",
    "fig, ax = plt.subplots()\n",
    "bottom = np.zeros(len(minimax_wins))\n",
    "\n",
    "results = {'losses':minimax_losses,'draws':minimax_ties,'wins':minimax_wins}\n",
    "\n",
    "colors = [\"indianred\", \"slategrey\", \"darkseagreen\"]\n",
    "i = 0\n",
    "for label, res in results.items():\n",
    "    p = ax.bar(x.astype(str), res, width, label=label, bottom=bottom, color=colors[i])\n",
    "    bottom += res\n",
    "    i += 1\n",
    "\n",
    "plt.xlabel('Depth')\n",
    "plt.title('AlphaBetaPlayer Outcome vs Depth')\n",
    "plt.legend()\n",
    "plt.show()"
   ]
  }
 ],
 "metadata": {
  "kernelspec": {
   "display_name": "myenv",
   "language": "python",
   "name": "python3"
  },
  "language_info": {
   "codemirror_mode": {
    "name": "ipython",
    "version": 3
   },
   "file_extension": ".py",
   "mimetype": "text/x-python",
   "name": "python",
   "nbconvert_exporter": "python",
   "pygments_lexer": "ipython3",
   "version": "3.9.21"
  }
 },
 "nbformat": 4,
 "nbformat_minor": 2
}
