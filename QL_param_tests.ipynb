{
 "cells": [
  {
   "cell_type": "code",
   "execution_count": 2,
   "id": "b9bbd991",
   "metadata": {},
   "outputs": [],
   "source": [
    "from board import UltimateTicTacToeBoard\n",
    "from game import UltimateTicTacToe\n",
    "from player import Player\n",
    "from tqdm import tqdm\n",
    "import matplotlib.pyplot as plt\n",
    "import pickle\n",
    "import os\n",
    "\n",
    "from linearQL_player import LinearQPlayer\n",
    "from tabularQL_player import TabularQPlayer\n",
    "from training_lQL import QTrainer"
   ]
  },
  {
   "cell_type": "code",
   "execution_count": 3,
   "id": "f012ec71",
   "metadata": {},
   "outputs": [],
   "source": [
    "def evaluate_agent(agent, opponent, eval_episodes=100):\n",
    "    \"\"\"Evaluate an agent against an opponent\"\"\"\n",
    "    # Save original epsilon and set to 0 for evaluation (no exploration)\n",
    "    original_epsilon = agent.epsilon\n",
    "    agent.epsilon = 0\n",
    "    \n",
    "    wins = 0\n",
    "    ties = 0\n",
    "    losses = 0\n",
    "    \n",
    "    for _ in range(eval_episodes):\n",
    "        game = UltimateTicTacToe(agent, opponent)\n",
    "        result = game.play_game()\n",
    "        \n",
    "        if result == agent.id:\n",
    "            wins += 1\n",
    "        elif result == -1:\n",
    "            ties += 1\n",
    "        else:\n",
    "            losses += 1\n",
    "    \n",
    "    # Restore original epsilon\n",
    "    agent.epsilon = original_epsilon\n",
    "\n",
    "    return wins, ties, losses\n",
    "\n",
    "def train_against_random(episodes=5000, eval_interval=500):\n",
    "    \"\"\"train q-learning agent against random player and evaluate performance\"\"\"\n",
    "    q_agent = TabularQPlayer(id=1, alpha=0.1, gamma=0.9, epsilon=1.0, save_path=\"q_table_vs_random.pkl\")\n",
    "    random_player = Player(id=2)\n",
    "    \n",
    "    win_rates = []\n",
    "    tie_rates = []\n",
    "    loss_rates = []\n",
    "    episodes_x = []\n",
    "    \n",
    "    for i in range(0, episodes, eval_interval):\n",
    "        # train for eval_interval episodes\n",
    "        q_agent.train(random_player, episodes=eval_interval, show_progress=True)\n",
    "        \n",
    "        # evaluate performance\n",
    "        wins, ties, losses = evaluate_agent(q_agent, random_player, eval_episodes=100)\n",
    "        win_rate = wins / 100\n",
    "        tie_rate = ties / 100\n",
    "        loss_rate = losses / 100\n",
    "        \n",
    "        win_rates.append(win_rate)\n",
    "        tie_rates.append(tie_rate)\n",
    "        loss_rates.append(loss_rate)\n",
    "        episodes_x.append(i + eval_interval)\n",
    "        \n",
    "        print(f\"After {i + eval_interval} episodes:\")\n",
    "        print(f\"Win rate: {win_rate:.2f}, Tie rate: {tie_rate:.2f}, Loss rate: {loss_rate:.2f}\")"
   ]
  },
  {
   "cell_type": "code",
   "execution_count": null,
   "id": "1de8f73e",
   "metadata": {},
   "outputs": [
    {
     "name": "stderr",
     "output_type": "stream",
     "text": [
      "100%|██████████| 10000/10000 [03:41<00:00, 45.05it/s]\n"
     ]
    },
    {
     "name": "stdout",
     "output_type": "stream",
     "text": [
      "After 10000 episodes:\n",
      "Win rate: 0.40, Tie rate: 0.27, Loss rate: 0.33\n"
     ]
    },
    {
     "name": "stderr",
     "output_type": "stream",
     "text": [
      " 94%|█████████▎| 9363/10000 [03:31<00:14, 42.85it/s]"
     ]
    }
   ],
   "source": [
    "q_agent = train_against_random(episodes=50000, eval_interval=10000)"
   ]
  },
  {
   "cell_type": "code",
   "execution_count": 6,
   "id": "4bd4c0f2",
   "metadata": {},
   "outputs": [
    {
     "ename": "AttributeError",
     "evalue": "'NoneType' object has no attribute 'move'",
     "output_type": "error",
     "traceback": [
      "\u001b[31m---------------------------------------------------------------------------\u001b[39m",
      "\u001b[31mAttributeError\u001b[39m                            Traceback (most recent call last)",
      "\u001b[36mCell\u001b[39m\u001b[36m \u001b[39m\u001b[32mIn[6]\u001b[39m\u001b[32m, line 3\u001b[39m\n\u001b[32m      1\u001b[39m random_player = Player(\u001b[38;5;28mid\u001b[39m=\u001b[32m1\u001b[39m)\n\u001b[32m      2\u001b[39m game = UltimateTicTacToe(q_agent, random_player)\n\u001b[32m----> \u001b[39m\u001b[32m3\u001b[39m result = \u001b[43mgame\u001b[49m\u001b[43m.\u001b[49m\u001b[43mplay_game\u001b[49m\u001b[43m(\u001b[49m\u001b[43m)\u001b[49m\n\u001b[32m      4\u001b[39m \u001b[38;5;28mprint\u001b[39m(\u001b[33mf\u001b[39m\u001b[33m\"\u001b[39m\u001b[33mGame result: \u001b[39m\u001b[38;5;132;01m{\u001b[39;00mresult\u001b[38;5;132;01m}\u001b[39;00m\u001b[33m\"\u001b[39m)\n",
      "\u001b[36mFile \u001b[39m\u001b[32m~/Documents/4NU/cs4120/hw4/ultimate_tic_tac_toe_agents/game.py:24\u001b[39m, in \u001b[36mUltimateTicTacToe.play_game\u001b[39m\u001b[34m(self)\u001b[39m\n\u001b[32m     22\u001b[39m done = \u001b[38;5;28;01mFalse\u001b[39;00m\n\u001b[32m     23\u001b[39m \u001b[38;5;28;01mwhile\u001b[39;00m \u001b[38;5;129;01mnot\u001b[39;00m done:\n\u001b[32m---> \u001b[39m\u001b[32m24\u001b[39m     subgrid, move = \u001b[38;5;28;43mself\u001b[39;49m\u001b[43m.\u001b[49m\u001b[43mcurr_player\u001b[49m\u001b[43m.\u001b[49m\u001b[43mmove\u001b[49m(board)\n\u001b[32m     25\u001b[39m     game_state, result, done = board.subgrid_move(subgrid, \u001b[38;5;28mself\u001b[39m.curr_player, move)\n\u001b[32m     27\u001b[39m     \u001b[38;5;66;03m# next player\u001b[39;00m\n",
      "\u001b[31mAttributeError\u001b[39m: 'NoneType' object has no attribute 'move'"
     ]
    }
   ],
   "source": [
    "random_player = Player(id=1)\n",
    "game = UltimateTicTacToe(q_agent, random_player)\n",
    "result = game.play_game()\n",
    "print(f\"Game result: {result}\")"
   ]
  },
  {
   "cell_type": "code",
   "execution_count": null,
   "id": "a15ba445",
   "metadata": {},
   "outputs": [],
   "source": [
    "q_player = LinearQPlayer(id=1, learning_rate=0.1, discount_factor=0.9, exploration_rate=0.3)"
   ]
  },
  {
   "cell_type": "code",
   "execution_count": null,
   "id": "615d780f",
   "metadata": {},
   "outputs": [],
   "source": [
    "trainer = QTrainer(episodes=5000)\n",
    "trainer.train_vs_random(q_player)  # Or other training methods"
   ]
  }
 ],
 "metadata": {
  "kernelspec": {
   "display_name": "nlp",
   "language": "python",
   "name": "python3"
  },
  "language_info": {
   "codemirror_mode": {
    "name": "ipython",
    "version": 3
   },
   "file_extension": ".py",
   "mimetype": "text/x-python",
   "name": "python",
   "nbconvert_exporter": "python",
   "pygments_lexer": "ipython3",
   "version": "3.12.9"
  }
 },
 "nbformat": 4,
 "nbformat_minor": 5
}
