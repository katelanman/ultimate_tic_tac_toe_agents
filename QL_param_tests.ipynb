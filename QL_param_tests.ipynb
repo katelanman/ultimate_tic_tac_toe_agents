{
 "cells": [
  {
   "cell_type": "code",
   "execution_count": null,
   "id": "b9bbd991",
   "metadata": {
    "vscode": {
     "languageId": "plaintext"
    }
   },
   "outputs": [],
   "source": [
    "from board import UltimateTicTacToeBoard\n",
    "from player import Player\n",
    "from tqdm import tqdm\n",
    "import matplotlib.pyplot as plt\n",
    "import pickle\n",
    "import os\n",
    "\n",
    "from linearQL_player import LinearQPlayer\n",
    "from tabularQL_player import TabularQPlayer\n",
    "from training_lQL import QTrainer"
   ]
  }
 ],
 "metadata": {
  "language_info": {
   "name": "python"
  }
 },
 "nbformat": 4,
 "nbformat_minor": 5
}
